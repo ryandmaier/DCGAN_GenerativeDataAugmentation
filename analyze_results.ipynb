{
 "cells": [
  {
   "cell_type": "code",
   "execution_count": null,
   "id": "5248df78-6584-4a5b-996a-818a60524b3b",
   "metadata": {},
   "outputs": [],
   "source": []
  },
  {
   "cell_type": "code",
   "execution_count": null,
   "id": "74244e02-8db5-4762-b793-2033106c4721",
   "metadata": {},
   "outputs": [],
   "source": []
  },
  {
   "cell_type": "code",
   "execution_count": 1,
   "id": "fae30638-e9be-4688-acd1-148e856066ac",
   "metadata": {},
   "outputs": [
    {
     "data": {
      "text/html": [
       "<div>\n",
       "<style scoped>\n",
       "    .dataframe tbody tr th:only-of-type {\n",
       "        vertical-align: middle;\n",
       "    }\n",
       "\n",
       "    .dataframe tbody tr th {\n",
       "        vertical-align: top;\n",
       "    }\n",
       "\n",
       "    .dataframe thead th {\n",
       "        text-align: right;\n",
       "    }\n",
       "</style>\n",
       "<table border=\"1\" class=\"dataframe\">\n",
       "  <thead>\n",
       "    <tr style=\"text-align: right;\">\n",
       "      <th></th>\n",
       "      <th>n_train</th>\n",
       "      <th>n_test</th>\n",
       "      <th>n_val</th>\n",
       "      <th>train_scores</th>\n",
       "      <th>val_scores</th>\n",
       "      <th>n_normal</th>\n",
       "      <th>n_pneumo</th>\n",
       "      <th>gen_label</th>\n",
       "      <th>Accuracy</th>\n",
       "      <th>Precision</th>\n",
       "      <th>Recall</th>\n",
       "      <th>F1 Score</th>\n",
       "      <th>TP</th>\n",
       "      <th>TN</th>\n",
       "      <th>FP</th>\n",
       "      <th>FN</th>\n",
       "      <th>gen_augment</th>\n",
       "    </tr>\n",
       "  </thead>\n",
       "  <tbody>\n",
       "    <tr>\n",
       "      <th>2024-01-18 15:27:38.587179</th>\n",
       "      <td>252</td>\n",
       "      <td>5576</td>\n",
       "      <td>28</td>\n",
       "      <td>{'Accuracy': 0.575, 'Precision': 1.0, 'Recall'...</td>\n",
       "      <td>{'Accuracy': 0.4375, 'Precision': 1.0, 'Recall...</td>\n",
       "      <td>126</td>\n",
       "      <td>126</td>\n",
       "      <td>No gen just 280 train images</td>\n",
       "      <td>0.819684</td>\n",
       "      <td>0.969892</td>\n",
       "      <td>0.312977</td>\n",
       "      <td>0.473242</td>\n",
       "      <td>451</td>\n",
       "      <td>4113</td>\n",
       "      <td>14</td>\n",
       "      <td>990</td>\n",
       "      <td>False</td>\n",
       "    </tr>\n",
       "    <tr>\n",
       "      <th>2024-01-18 15:33:38.010483</th>\n",
       "      <td>532</td>\n",
       "      <td>5576</td>\n",
       "      <td>28</td>\n",
       "      <td>{'Accuracy': 0.9450757575757576, 'Precision': ...</td>\n",
       "      <td>{'Accuracy': 0.9375, 'Precision': 0.9, 'Recall...</td>\n",
       "      <td>126</td>\n",
       "      <td>126</td>\n",
       "      <td>280 train images and 280 dcgan images 10001 ep...</td>\n",
       "      <td>0.919181</td>\n",
       "      <td>0.775125</td>\n",
       "      <td>0.968772</td>\n",
       "      <td>0.861197</td>\n",
       "      <td>1396</td>\n",
       "      <td>3722</td>\n",
       "      <td>405</td>\n",
       "      <td>45</td>\n",
       "      <td>True</td>\n",
       "    </tr>\n",
       "    <tr>\n",
       "      <th>2024-01-18 16:31:47.934311</th>\n",
       "      <td>90</td>\n",
       "      <td>5756</td>\n",
       "      <td>10</td>\n",
       "      <td>{'Accuracy': 0.5, 'Precision': 0, 'Recall': 0....</td>\n",
       "      <td>{'Accuracy': 0.5, 'Precision': 0, 'Recall': 0....</td>\n",
       "      <td>45</td>\n",
       "      <td>45</td>\n",
       "      <td>No gen just 100 train images</td>\n",
       "      <td>0.733217</td>\n",
       "      <td>0.000000</td>\n",
       "      <td>0.000000</td>\n",
       "      <td>0.000000</td>\n",
       "      <td>0</td>\n",
       "      <td>4216</td>\n",
       "      <td>1</td>\n",
       "      <td>1533</td>\n",
       "      <td>False</td>\n",
       "    </tr>\n",
       "    <tr>\n",
       "      <th>2024-01-18 16:36:08.747108</th>\n",
       "      <td>44</td>\n",
       "      <td>5806</td>\n",
       "      <td>6</td>\n",
       "      <td>{'Accuracy': 0.5, 'Precision': 0, 'Recall': 0....</td>\n",
       "      <td>{'Accuracy': 0.6666666666666666, 'Precision': ...</td>\n",
       "      <td>22</td>\n",
       "      <td>22</td>\n",
       "      <td>No gen just 50 train images</td>\n",
       "      <td>0.732851</td>\n",
       "      <td>0.888889</td>\n",
       "      <td>0.005138</td>\n",
       "      <td>0.010217</td>\n",
       "      <td>8</td>\n",
       "      <td>4244</td>\n",
       "      <td>1</td>\n",
       "      <td>1549</td>\n",
       "      <td>False</td>\n",
       "    </tr>\n",
       "    <tr>\n",
       "      <th>2024-01-18 16:45:09.508933</th>\n",
       "      <td>44</td>\n",
       "      <td>5806</td>\n",
       "      <td>6</td>\n",
       "      <td>{'Accuracy': 0.47619047619047616, 'Precision':...</td>\n",
       "      <td>{'Accuracy': 0.5, 'Precision': 0, 'Recall': 0....</td>\n",
       "      <td>22</td>\n",
       "      <td>22</td>\n",
       "      <td>No gen just 50 train images</td>\n",
       "      <td>0.731644</td>\n",
       "      <td>0.500000</td>\n",
       "      <td>0.000642</td>\n",
       "      <td>0.001283</td>\n",
       "      <td>1</td>\n",
       "      <td>4244</td>\n",
       "      <td>1</td>\n",
       "      <td>1556</td>\n",
       "      <td>False</td>\n",
       "    </tr>\n",
       "  </tbody>\n",
       "</table>\n",
       "</div>"
      ],
      "text/plain": [
       "                           n_train n_test n_val  \\\n",
       "2024-01-18 15:27:38.587179     252   5576    28   \n",
       "2024-01-18 15:33:38.010483     532   5576    28   \n",
       "2024-01-18 16:31:47.934311      90   5756    10   \n",
       "2024-01-18 16:36:08.747108      44   5806     6   \n",
       "2024-01-18 16:45:09.508933      44   5806     6   \n",
       "\n",
       "                                                                 train_scores  \\\n",
       "2024-01-18 15:27:38.587179  {'Accuracy': 0.575, 'Precision': 1.0, 'Recall'...   \n",
       "2024-01-18 15:33:38.010483  {'Accuracy': 0.9450757575757576, 'Precision': ...   \n",
       "2024-01-18 16:31:47.934311  {'Accuracy': 0.5, 'Precision': 0, 'Recall': 0....   \n",
       "2024-01-18 16:36:08.747108  {'Accuracy': 0.5, 'Precision': 0, 'Recall': 0....   \n",
       "2024-01-18 16:45:09.508933  {'Accuracy': 0.47619047619047616, 'Precision':...   \n",
       "\n",
       "                                                                   val_scores  \\\n",
       "2024-01-18 15:27:38.587179  {'Accuracy': 0.4375, 'Precision': 1.0, 'Recall...   \n",
       "2024-01-18 15:33:38.010483  {'Accuracy': 0.9375, 'Precision': 0.9, 'Recall...   \n",
       "2024-01-18 16:31:47.934311  {'Accuracy': 0.5, 'Precision': 0, 'Recall': 0....   \n",
       "2024-01-18 16:36:08.747108  {'Accuracy': 0.6666666666666666, 'Precision': ...   \n",
       "2024-01-18 16:45:09.508933  {'Accuracy': 0.5, 'Precision': 0, 'Recall': 0....   \n",
       "\n",
       "                           n_normal n_pneumo  \\\n",
       "2024-01-18 15:27:38.587179      126      126   \n",
       "2024-01-18 15:33:38.010483      126      126   \n",
       "2024-01-18 16:31:47.934311       45       45   \n",
       "2024-01-18 16:36:08.747108       22       22   \n",
       "2024-01-18 16:45:09.508933       22       22   \n",
       "\n",
       "                                                                    gen_label  \\\n",
       "2024-01-18 15:27:38.587179                       No gen just 280 train images   \n",
       "2024-01-18 15:33:38.010483  280 train images and 280 dcgan images 10001 ep...   \n",
       "2024-01-18 16:31:47.934311                       No gen just 100 train images   \n",
       "2024-01-18 16:36:08.747108                        No gen just 50 train images   \n",
       "2024-01-18 16:45:09.508933                        No gen just 50 train images   \n",
       "\n",
       "                            Accuracy  Precision    Recall  F1 Score    TP  \\\n",
       "2024-01-18 15:27:38.587179  0.819684   0.969892  0.312977  0.473242   451   \n",
       "2024-01-18 15:33:38.010483  0.919181   0.775125  0.968772  0.861197  1396   \n",
       "2024-01-18 16:31:47.934311  0.733217   0.000000  0.000000  0.000000     0   \n",
       "2024-01-18 16:36:08.747108  0.732851   0.888889  0.005138  0.010217     8   \n",
       "2024-01-18 16:45:09.508933  0.731644   0.500000  0.000642  0.001283     1   \n",
       "\n",
       "                              TN   FP    FN gen_augment  \n",
       "2024-01-18 15:27:38.587179  4113   14   990       False  \n",
       "2024-01-18 15:33:38.010483  3722  405    45        True  \n",
       "2024-01-18 16:31:47.934311  4216    1  1533       False  \n",
       "2024-01-18 16:36:08.747108  4244    1  1549       False  \n",
       "2024-01-18 16:45:09.508933  4244    1  1556       False  "
      ]
     },
     "execution_count": 1,
     "metadata": {},
     "output_type": "execute_result"
    }
   ],
   "source": [
    "import json\n",
    "import pandas as pd\n",
    "all_results = {}\n",
    "fname = \"model_results.json\"\n",
    "with open(fname,'r') as file:\n",
    "    try:\n",
    "        all_results = json.load(file)\n",
    "    except json.JSONDecodeError as e:\n",
    "        all_results = {}\n",
    "        \n",
    "df = pd.DataFrame(all_results).T\n",
    "# df\n",
    "df = pd.concat([df.drop(['test_scores'], axis=1), pd.json_normalize(df['test_scores']).set_index(df.index)], axis=1)\n",
    "if 'gen_label' in df.columns:\n",
    "    df['gen_augment'] = df.gen_label.str.contains('dcgan')\n",
    "else:\n",
    "    df['gen_augment'] = False\n",
    "df.tail()"
   ]
  },
  {
   "cell_type": "code",
   "execution_count": null,
   "id": "cb716471-3a45-4055-9c00-feb2c4aaf26a",
   "metadata": {},
   "outputs": [],
   "source": []
  },
  {
   "cell_type": "code",
   "execution_count": null,
   "id": "b7d7ace4-9473-4bf6-a6c3-03353bd3a280",
   "metadata": {},
   "outputs": [],
   "source": []
  },
  {
   "cell_type": "code",
   "execution_count": 2,
   "id": "31b7c586-1c76-4c49-92f8-8e98b7dcd744",
   "metadata": {},
   "outputs": [
    {
     "data": {
      "image/png": "[encoded data removed]",
      "text/plain": [
       "<Figure size 720x432 with 1 Axes>"
      ]
     },
     "metadata": {
      "needs_background": "light"
     },
     "output_type": "display_data"
    }
   ],
   "source": [
    "gen_df = df[(~df.gen_label.isna()) & (df.gen_label.str.contains('dcgan')) & (df.gen_label.str.contains('10001'))]['F1 Score']\n",
    "nogen_df = df[(~df.gen_label.isna()) & (df.gen_label.str.contains('No gen'))]['F1 Score']\n",
    "nogen_df.mean(), gen_df.mean()\n",
    "import matplotlib.pyplot as plt\n",
    "fig, ax = plt.subplots(figsize=(10, 6))\n",
    "ax.boxplot([nogen_df, gen_df], labels=['nogen_df', 'gen_df'])\n",
    "plt.show()"
   ]
  },
  {
   "cell_type": "code",
   "execution_count": 3,
   "id": "e8c07b49-5beb-41f6-bcee-21d597c42550",
   "metadata": {},
   "outputs": [
    {
     "data": {
      "text/plain": [
       "200    71\n",
       "100     7\n",
       "260     6\n",
       "160     6\n",
       "240     6\n",
       "230     6\n",
       "220     6\n",
       "210     6\n",
       "190     6\n",
       "180     6\n",
       "170     6\n",
       "150     6\n",
       "270     6\n",
       "140     6\n",
       "130     6\n",
       "120     6\n",
       "110     6\n",
       "280     6\n",
       "250     6\n",
       "300     4\n",
       "290     4\n",
       "50      2\n",
       "Name: original_train, dtype: int64"
      ]
     },
     "execution_count": 3,
     "metadata": {},
     "output_type": "execute_result"
    }
   ],
   "source": [
    "df2 = df[~df.gen_label.isna()][['gen_label','F1 Score']]\n",
    "df2['gen_augment'] = df2.gen_label.str.contains('dcgan')\n",
    "df2['original_train'] = pd.to_numeric(df2.gen_label.str.extract('(\\d+) train')[0], errors='coerce')\n",
    "df2['n_augment'] = pd.to_numeric(df2.gen_label.str.extract('(\\d+) dcgan images')[0], errors='coerce') # .astype(int)\n",
    "df2.original_train.value_counts()"
   ]
  },
  {
   "cell_type": "code",
   "execution_count": 4,
   "id": "b97fc719-4165-478d-be6f-f18f322775bf",
   "metadata": {},
   "outputs": [
    {
     "data": {
      "text/plain": [
       "0.5237474156253764"
      ]
     },
     "execution_count": 4,
     "metadata": {},
     "output_type": "execute_result"
    }
   ],
   "source": [
    "df2[df2.gen_augment==False].original_train.value_counts()\n",
    "df2['F1 Score'].mean()"
   ]
  },
  {
   "cell_type": "code",
   "execution_count": 5,
   "id": "50ca7cc8-763b-44c0-a11b-5d037a90bb3e",
   "metadata": {},
   "outputs": [
    {
     "data": {
      "image/png": "[encoded data removed]",
      "text/plain": [
       "<Figure size 720x432 with 1 Axes>"
      ]
     },
     "metadata": {
      "needs_background": "light"
     },
     "output_type": "display_data"
    }
   ],
   "source": [
    "# ax = df2.plot.scatter(x='original_train', y='F1 Score', style='.', figsize=(12, 6), c=df['original_train'], cmap='viridis')\n",
    "fig, ax = plt.subplots(figsize=(10, 6))\n",
    "plt.scatter(\n",
    "    df2.original_train, \n",
    "    df2['F1 Score'], \n",
    "    c=df2['gen_augment'].map({True: 'r', False: 'b'}), \n",
    "    marker='x')\n",
    "# plt.set_cmap('plasma_r')\n",
    "ax.set_title('Effect of Generative Augmentation on F1 Score by Training Set Size')\n",
    "ax.set_ylabel('F1 Score')\n",
    "ax.set_xlabel('Number of Original Training Images')\n",
    "legend_labels = {'With Gen Augmentation': 'r', 'Without Gen Augmentation': 'b'}\n",
    "handles = [plt.Line2D([0], [0], marker='x', color=color, linestyle='', markersize=10, label=label)\n",
    "           for label, color in legend_labels.items()]\n",
    "ax.legend(handles=handles, title='Generative Augmentation')\n",
    "ax.legend(handles=handles, title='Generative Augmentation')\n",
    "plt.show()"
   ]
  },
  {
   "cell_type": "code",
   "execution_count": 6,
   "id": "9bec0a3f-ae6e-4ba7-853c-b9eff9af1fe6",
   "metadata": {},
   "outputs": [
    {
     "data": {
      "text/plain": [
       "(190, 5)"
      ]
     },
     "execution_count": 6,
     "metadata": {},
     "output_type": "execute_result"
    }
   ],
   "source": [
    "df2.shape"
   ]
  },
  {
   "cell_type": "code",
   "execution_count": 7,
   "id": "863fade8-66e3-4e30-a0cf-a5e0a53dd153",
   "metadata": {},
   "outputs": [
    {
     "data": {
      "text/plain": [
       "<Figure size 1080x432 with 0 Axes>"
      ]
     },
     "metadata": {},
     "output_type": "display_data"
    },
    {
     "data": {
      "image/png": "[encoded data removed]",
      "text/plain": [
       "<Figure size 432x288 with 1 Axes>"
      ]
     },
     "metadata": {
      "needs_background": "light"
     },
     "output_type": "display_data"
    }
   ],
   "source": [
    "bin_size = 10\n",
    "df2['training_size'] = (df2.original_train // bin_size) * bin_size\n",
    "plt.figure(figsize=(15, 6))\n",
    "# df2.boxplot(column='F1 Score', by=['gen_augment','training_size_bin'], grid=False)\n",
    "df2.boxplot(column='F1 Score', by=['training_size', 'gen_augment'], grid=False)\n",
    "plt.title('Boxplots of F1 Score data by Training Set Size and class')\n",
    "plt.xlabel('Bin')\n",
    "plt.ylabel('y')\n",
    "plt.xticks(rotation=45)\n",
    "plt.tight_layout()\n",
    "plt.show()\n",
    "# df2"
   ]
  },
  {
   "cell_type": "code",
   "execution_count": 8,
   "id": "a5cfc234-68a4-4df2-9a53-4b1cc1f86ba1",
   "metadata": {},
   "outputs": [
    {
     "data": {
      "image/png": "[encoded data removed]",
      "text/plain": [
       "<Figure size 1080x720 with 2 Axes>"
      ]
     },
     "metadata": {
      "needs_background": "light"
     },
     "output_type": "display_data"
    }
   ],
   "source": [
    "df_2bps = df2#[df2['training_size']>40]\n",
    "gen_df = df_2bps[df_2bps.gen_augment == True]\n",
    "no_gen_df = df_2bps[df_2bps.gen_augment == False]\n",
    "fig, axs = plt.subplots(2, 1, figsize=(15, 10))\n",
    "\n",
    "no_gen_df.boxplot(column='F1 Score', by='training_size', ax=axs[0], grid=False)\n",
    "axs[0].set_title('Without Generative Augmentation')\n",
    "axs[0].set_xlabel('Training Set Size')\n",
    "axs[0].set_ylabel('F1 Score')\n",
    "\n",
    "gen_df.boxplot(column='F1 Score', by='training_size', ax=axs[1], grid=False)\n",
    "axs[1].set_title('With Generative Augmentation')\n",
    "axs[1].set_xlabel('Training Set Size')\n",
    "axs[1].set_ylabel('F1 Score')\n",
    "plt.tight_layout()\n",
    "plt.show()"
   ]
  },
  {
   "cell_type": "code",
   "execution_count": 9,
   "id": "419f4178-4eb3-42ea-813f-7ffc84cdea06",
   "metadata": {},
   "outputs": [],
   "source": [
    "# df2[df2.training_size==70]#.groupby(['training_size']).count()"
   ]
  },
  {
   "cell_type": "code",
   "execution_count": 10,
   "id": "753cb1b4-60e8-49f5-aa6e-1b28e05a9a08",
   "metadata": {},
   "outputs": [
    {
     "data": {
      "text/plain": [
       "False    36\n",
       "True     35\n",
       "Name: gen_augment, dtype: int64"
      ]
     },
     "execution_count": 10,
     "metadata": {},
     "output_type": "execute_result"
    }
   ],
   "source": [
    "df2[df2.original_train==200].gen_augment.value_counts() # 36 False, 35 True"
   ]
  },
  {
   "cell_type": "code",
   "execution_count": 22,
   "id": "fe29d9a7-18cb-442c-8b9b-4a1d8a7195d3",
   "metadata": {},
   "outputs": [
    {
     "data": {
      "image/png": "[encoded data removed]",
      "text/plain": [
       "<Figure size 576x432 with 1 Axes>"
      ]
     },
     "metadata": {
      "needs_background": "light"
     },
     "output_type": "display_data"
    }
   ],
   "source": [
    "df3 = df2[df2.original_train==200]\n",
    "fig, ax = plt.subplots(figsize=(8, 6))\n",
    "no_gen = df3[df3.gen_augment==False]['F1 Score']\n",
    "yes_gen = df3[df3.gen_augment==True]['F1 Score']\n",
    "ax.boxplot([no_gen, yes_gen], labels=['No Generative Augmentation', 'With Generative Augment'])\n",
    "ax.set_title('Effect of Generative Augmentation on F1 Score for Training Sets of 200 Images')\n",
    "ax.set_ylabel('F1 Score')\n",
    "plt.show()"
   ]
  },
  {
   "cell_type": "code",
   "execution_count": 12,
   "id": "220cb097-25ad-49aa-91b0-1388fb9007f1",
   "metadata": {},
   "outputs": [
    {
     "data": {
      "text/html": [
       "<div>\n",
       "<style scoped>\n",
       "    .dataframe tbody tr th:only-of-type {\n",
       "        vertical-align: middle;\n",
       "    }\n",
       "\n",
       "    .dataframe tbody tr th {\n",
       "        vertical-align: top;\n",
       "    }\n",
       "\n",
       "    .dataframe thead th {\n",
       "        text-align: right;\n",
       "    }\n",
       "</style>\n",
       "<table border=\"1\" class=\"dataframe\">\n",
       "  <thead>\n",
       "    <tr style=\"text-align: right;\">\n",
       "      <th></th>\n",
       "      <th>index</th>\n",
       "      <th>gen_label</th>\n",
       "      <th>F1 Score</th>\n",
       "      <th>gen_augment</th>\n",
       "      <th>original_train</th>\n",
       "      <th>n_augment</th>\n",
       "      <th>training_size</th>\n",
       "    </tr>\n",
       "  </thead>\n",
       "  <tbody>\n",
       "    <tr>\n",
       "      <th>0</th>\n",
       "      <td>2024-01-09 19:23:33.719771</td>\n",
       "      <td>No gen just 200 train images</td>\n",
       "      <td>0.002695</td>\n",
       "      <td>False</td>\n",
       "      <td>200</td>\n",
       "      <td>NaN</td>\n",
       "      <td>200</td>\n",
       "    </tr>\n",
       "    <tr>\n",
       "      <th>1</th>\n",
       "      <td>2024-01-09 19:29:57.039968</td>\n",
       "      <td>No gen just 200 train images</td>\n",
       "      <td>0.555342</td>\n",
       "      <td>False</td>\n",
       "      <td>200</td>\n",
       "      <td>NaN</td>\n",
       "      <td>200</td>\n",
       "    </tr>\n",
       "    <tr>\n",
       "      <th>2</th>\n",
       "      <td>2024-01-10 15:44:45.452889</td>\n",
       "      <td>200 train images and 200 dcgan images</td>\n",
       "      <td>0.706901</td>\n",
       "      <td>True</td>\n",
       "      <td>200</td>\n",
       "      <td>200.0</td>\n",
       "      <td>200</td>\n",
       "    </tr>\n",
       "    <tr>\n",
       "      <th>3</th>\n",
       "      <td>2024-01-10 16:25:29.128362</td>\n",
       "      <td>No gen just 200 train images</td>\n",
       "      <td>0.312887</td>\n",
       "      <td>False</td>\n",
       "      <td>200</td>\n",
       "      <td>NaN</td>\n",
       "      <td>200</td>\n",
       "    </tr>\n",
       "    <tr>\n",
       "      <th>4</th>\n",
       "      <td>2024-01-10 16:30:35.004101</td>\n",
       "      <td>200 train images and 200 dcgan images 5001 epochs</td>\n",
       "      <td>0.678249</td>\n",
       "      <td>True</td>\n",
       "      <td>200</td>\n",
       "      <td>200.0</td>\n",
       "      <td>200</td>\n",
       "    </tr>\n",
       "    <tr>\n",
       "      <th>5</th>\n",
       "      <td>2024-01-11 18:39:01.032509</td>\n",
       "      <td>No gen just 200 train images</td>\n",
       "      <td>0.006716</td>\n",
       "      <td>False</td>\n",
       "      <td>200</td>\n",
       "      <td>NaN</td>\n",
       "      <td>200</td>\n",
       "    </tr>\n",
       "    <tr>\n",
       "      <th>6</th>\n",
       "      <td>2024-01-11 18:42:24.661745</td>\n",
       "      <td>200 train images and 200 dcgan images 10001 ep...</td>\n",
       "      <td>0.857935</td>\n",
       "      <td>True</td>\n",
       "      <td>200</td>\n",
       "      <td>200.0</td>\n",
       "      <td>200</td>\n",
       "    </tr>\n",
       "    <tr>\n",
       "      <th>7</th>\n",
       "      <td>2024-01-14 16:17:10.510768</td>\n",
       "      <td>No gen just 200 train images</td>\n",
       "      <td>0.191981</td>\n",
       "      <td>False</td>\n",
       "      <td>200</td>\n",
       "      <td>NaN</td>\n",
       "      <td>200</td>\n",
       "    </tr>\n",
       "    <tr>\n",
       "      <th>8</th>\n",
       "      <td>2024-01-14 16:20:35.317211</td>\n",
       "      <td>200 train images and 200 dcgan images 10001 ep...</td>\n",
       "      <td>0.831407</td>\n",
       "      <td>True</td>\n",
       "      <td>200</td>\n",
       "      <td>200.0</td>\n",
       "      <td>200</td>\n",
       "    </tr>\n",
       "    <tr>\n",
       "      <th>9</th>\n",
       "      <td>2024-01-15 15:51:47.197931</td>\n",
       "      <td>No gen just 200 train images</td>\n",
       "      <td>0.000000</td>\n",
       "      <td>False</td>\n",
       "      <td>200</td>\n",
       "      <td>NaN</td>\n",
       "      <td>200</td>\n",
       "    </tr>\n",
       "    <tr>\n",
       "      <th>10</th>\n",
       "      <td>2024-01-15 15:55:15.425457</td>\n",
       "      <td>200 train images and 200 dcgan images 10001 ep...</td>\n",
       "      <td>0.848263</td>\n",
       "      <td>True</td>\n",
       "      <td>200</td>\n",
       "      <td>200.0</td>\n",
       "      <td>200</td>\n",
       "    </tr>\n",
       "    <tr>\n",
       "      <th>11</th>\n",
       "      <td>2024-01-15 16:55:40.253923</td>\n",
       "      <td>No gen just 200 train images</td>\n",
       "      <td>0.507859</td>\n",
       "      <td>False</td>\n",
       "      <td>200</td>\n",
       "      <td>NaN</td>\n",
       "      <td>200</td>\n",
       "    </tr>\n",
       "    <tr>\n",
       "      <th>12</th>\n",
       "      <td>2024-01-15 16:59:02.661681</td>\n",
       "      <td>200 train images and 200 dcgan images 10001 ep...</td>\n",
       "      <td>0.871878</td>\n",
       "      <td>True</td>\n",
       "      <td>200</td>\n",
       "      <td>200.0</td>\n",
       "      <td>200</td>\n",
       "    </tr>\n",
       "    <tr>\n",
       "      <th>13</th>\n",
       "      <td>2024-01-15 17:44:32.861067</td>\n",
       "      <td>No gen just 200 train images</td>\n",
       "      <td>0.097311</td>\n",
       "      <td>False</td>\n",
       "      <td>200</td>\n",
       "      <td>NaN</td>\n",
       "      <td>200</td>\n",
       "    </tr>\n",
       "    <tr>\n",
       "      <th>14</th>\n",
       "      <td>2024-01-15 17:47:52.979428</td>\n",
       "      <td>200 train images and 200 dcgan images 10001 ep...</td>\n",
       "      <td>0.827059</td>\n",
       "      <td>True</td>\n",
       "      <td>200</td>\n",
       "      <td>200.0</td>\n",
       "      <td>200</td>\n",
       "    </tr>\n",
       "    <tr>\n",
       "      <th>15</th>\n",
       "      <td>2024-01-15 18:33:31.491503</td>\n",
       "      <td>No gen just 200 train images</td>\n",
       "      <td>0.490226</td>\n",
       "      <td>False</td>\n",
       "      <td>200</td>\n",
       "      <td>NaN</td>\n",
       "      <td>200</td>\n",
       "    </tr>\n",
       "    <tr>\n",
       "      <th>16</th>\n",
       "      <td>2024-01-15 18:36:53.070918</td>\n",
       "      <td>200 train images and 200 dcgan images 10001 ep...</td>\n",
       "      <td>0.804299</td>\n",
       "      <td>True</td>\n",
       "      <td>200</td>\n",
       "      <td>200.0</td>\n",
       "      <td>200</td>\n",
       "    </tr>\n",
       "    <tr>\n",
       "      <th>17</th>\n",
       "      <td>2024-01-15 19:21:59.906900</td>\n",
       "      <td>No gen just 200 train images</td>\n",
       "      <td>0.497281</td>\n",
       "      <td>False</td>\n",
       "      <td>200</td>\n",
       "      <td>NaN</td>\n",
       "      <td>200</td>\n",
       "    </tr>\n",
       "    <tr>\n",
       "      <th>18</th>\n",
       "      <td>2024-01-15 19:25:28.172912</td>\n",
       "      <td>200 train images and 200 dcgan images 10001 ep...</td>\n",
       "      <td>0.847260</td>\n",
       "      <td>True</td>\n",
       "      <td>200</td>\n",
       "      <td>200.0</td>\n",
       "      <td>200</td>\n",
       "    </tr>\n",
       "    <tr>\n",
       "      <th>19</th>\n",
       "      <td>2024-01-15 20:10:59.685117</td>\n",
       "      <td>No gen just 200 train images</td>\n",
       "      <td>0.138577</td>\n",
       "      <td>False</td>\n",
       "      <td>200</td>\n",
       "      <td>NaN</td>\n",
       "      <td>200</td>\n",
       "    </tr>\n",
       "  </tbody>\n",
       "</table>\n",
       "</div>"
      ],
      "text/plain": [
       "                         index  \\\n",
       "0   2024-01-09 19:23:33.719771   \n",
       "1   2024-01-09 19:29:57.039968   \n",
       "2   2024-01-10 15:44:45.452889   \n",
       "3   2024-01-10 16:25:29.128362   \n",
       "4   2024-01-10 16:30:35.004101   \n",
       "5   2024-01-11 18:39:01.032509   \n",
       "6   2024-01-11 18:42:24.661745   \n",
       "7   2024-01-14 16:17:10.510768   \n",
       "8   2024-01-14 16:20:35.317211   \n",
       "9   2024-01-15 15:51:47.197931   \n",
       "10  2024-01-15 15:55:15.425457   \n",
       "11  2024-01-15 16:55:40.253923   \n",
       "12  2024-01-15 16:59:02.661681   \n",
       "13  2024-01-15 17:44:32.861067   \n",
       "14  2024-01-15 17:47:52.979428   \n",
       "15  2024-01-15 18:33:31.491503   \n",
       "16  2024-01-15 18:36:53.070918   \n",
       "17  2024-01-15 19:21:59.906900   \n",
       "18  2024-01-15 19:25:28.172912   \n",
       "19  2024-01-15 20:10:59.685117   \n",
       "\n",
       "                                            gen_label  F1 Score  gen_augment  \\\n",
       "0                        No gen just 200 train images  0.002695        False   \n",
       "1                        No gen just 200 train images  0.555342        False   \n",
       "2               200 train images and 200 dcgan images  0.706901         True   \n",
       "3                        No gen just 200 train images  0.312887        False   \n",
       "4   200 train images and 200 dcgan images 5001 epochs  0.678249         True   \n",
       "5                        No gen just 200 train images  0.006716        False   \n",
       "6   200 train images and 200 dcgan images 10001 ep...  0.857935         True   \n",
       "7                        No gen just 200 train images  0.191981        False   \n",
       "8   200 train images and 200 dcgan images 10001 ep...  0.831407         True   \n",
       "9                        No gen just 200 train images  0.000000        False   \n",
       "10  200 train images and 200 dcgan images 10001 ep...  0.848263         True   \n",
       "11                       No gen just 200 train images  0.507859        False   \n",
       "12  200 train images and 200 dcgan images 10001 ep...  0.871878         True   \n",
       "13                       No gen just 200 train images  0.097311        False   \n",
       "14  200 train images and 200 dcgan images 10001 ep...  0.827059         True   \n",
       "15                       No gen just 200 train images  0.490226        False   \n",
       "16  200 train images and 200 dcgan images 10001 ep...  0.804299         True   \n",
       "17                       No gen just 200 train images  0.497281        False   \n",
       "18  200 train images and 200 dcgan images 10001 ep...  0.847260         True   \n",
       "19                       No gen just 200 train images  0.138577        False   \n",
       "\n",
       "    original_train  n_augment  training_size  \n",
       "0              200        NaN            200  \n",
       "1              200        NaN            200  \n",
       "2              200      200.0            200  \n",
       "3              200        NaN            200  \n",
       "4              200      200.0            200  \n",
       "5              200        NaN            200  \n",
       "6              200      200.0            200  \n",
       "7              200        NaN            200  \n",
       "8              200      200.0            200  \n",
       "9              200        NaN            200  \n",
       "10             200      200.0            200  \n",
       "11             200        NaN            200  \n",
       "12             200      200.0            200  \n",
       "13             200        NaN            200  \n",
       "14             200      200.0            200  \n",
       "15             200        NaN            200  \n",
       "16             200      200.0            200  \n",
       "17             200        NaN            200  \n",
       "18             200      200.0            200  \n",
       "19             200        NaN            200  "
      ]
     },
     "execution_count": 12,
     "metadata": {},
     "output_type": "execute_result"
    }
   ],
   "source": [
    "df2.reset_index().sort_values(by='index').head(20)"
   ]
  },
  {
   "cell_type": "code",
   "execution_count": 13,
   "id": "3d98fd4c-08a9-4517-b3ba-03ac7408df1a",
   "metadata": {},
   "outputs": [
    {
     "data": {
      "text/plain": [
       "0.21879079808420518"
      ]
     },
     "execution_count": 13,
     "metadata": {},
     "output_type": "execute_result"
    }
   ],
   "source": [
    "no_gen.mean()"
   ]
  },
  {
   "cell_type": "code",
   "execution_count": 14,
   "id": "e7d9c4ae-829c-4fe8-93ab-bcfa17fefa36",
   "metadata": {},
   "outputs": [
    {
     "data": {
      "text/plain": [
       "0.0    93\n",
       "dtype: int64"
      ]
     },
     "execution_count": 14,
     "metadata": {},
     "output_type": "execute_result"
    }
   ],
   "source": [
    "df2['n_augment'] = pd.to_numeric(df2.gen_label.str.extract('(\\d+) dcgan images')[0], errors='coerce')\n",
    "df4 = df2[~df2.n_augment.isna()]\n",
    "(df4.original_train - df4.n_augment).value_counts()"
   ]
  },
  {
   "cell_type": "code",
   "execution_count": 15,
   "id": "4a309289-79f6-4379-90d5-ba561a41e046",
   "metadata": {},
   "outputs": [
    {
     "data": {
      "text/plain": [
       "<Figure size 1080x432 with 0 Axes>"
      ]
     },
     "metadata": {},
     "output_type": "display_data"
    },
    {
     "data": {
      "image/png": "[encoded data removed]",
      "text/plain": [
       "<Figure size 432x288 with 1 Axes>"
      ]
     },
     "metadata": {
      "needs_background": "light"
     },
     "output_type": "display_data"
    }
   ],
   "source": [
    "bin_size = 10\n",
    "df2['bin'] = (df2.original_train // bin_size) * bin_size\n",
    "plt.figure(figsize=(15, 6))\n",
    "df2.boxplot(column='F1 Score', by=['bin', 'gen_augment'], grid=False)\n",
    "plt.title('Boxplots of y data by bin and class')\n",
    "plt.xlabel('Bin')\n",
    "plt.ylabel('y')\n",
    "plt.xticks(rotation=45)\n",
    "plt.tight_layout()\n",
    "plt.show()\n",
    "# df2"
   ]
  },
  {
   "cell_type": "code",
   "execution_count": 16,
   "id": "bf69d21f-a35e-475f-a32a-b05d1c63b117",
   "metadata": {},
   "outputs": [
    {
     "data": {
      "text/plain": [
       "<AxesSubplot:title={'center':'Number of Datapoints by Training Set Size'}, xlabel='Training Set Size', ylabel='Number of Datapoints'>"
      ]
     },
     "execution_count": 16,
     "metadata": {},
     "output_type": "execute_result"
    },
    {
     "data": {
      "image/png": "[encoded data removed]",
      "text/plain": [
       "<Figure size 1080x360 with 1 Axes>"
      ]
     },
     "metadata": {
      "needs_background": "light"
     },
     "output_type": "display_data"
    }
   ],
   "source": [
    "# Number of datapoints for each training size\n",
    "df3 = df2[df2['training_size']>40]\n",
    "pd.DataFrame(df3.sort_values(by='bin')['bin'].value_counts()).reset_index().plot.scatter(\n",
    "    x='index', y='bin', xlabel='Training Set Size', ylabel='Number of Datapoints', title='Number of Datapoints by Training Set Size', figsize=(15,5))"
   ]
  },
  {
   "cell_type": "code",
   "execution_count": 17,
   "id": "d0827e0c-4a74-41bd-bbcc-32f0816f3fef",
   "metadata": {},
   "outputs": [
    {
     "data": {
      "text/html": [
       "<div>\n",
       "<style scoped>\n",
       "    .dataframe tbody tr th:only-of-type {\n",
       "        vertical-align: middle;\n",
       "    }\n",
       "\n",
       "    .dataframe tbody tr th {\n",
       "        vertical-align: top;\n",
       "    }\n",
       "\n",
       "    .dataframe thead th {\n",
       "        text-align: right;\n",
       "    }\n",
       "</style>\n",
       "<table border=\"1\" class=\"dataframe\">\n",
       "  <thead>\n",
       "    <tr style=\"text-align: right;\">\n",
       "      <th></th>\n",
       "      <th>bin</th>\n",
       "      <th>gen_augment</th>\n",
       "      <th>F1 Score</th>\n",
       "    </tr>\n",
       "  </thead>\n",
       "  <tbody>\n",
       "    <tr>\n",
       "      <th>0</th>\n",
       "      <td>50</td>\n",
       "      <td>False</td>\n",
       "      <td>2</td>\n",
       "    </tr>\n",
       "    <tr>\n",
       "      <th>40</th>\n",
       "      <td>290</td>\n",
       "      <td>True</td>\n",
       "      <td>2</td>\n",
       "    </tr>\n",
       "    <tr>\n",
       "      <th>39</th>\n",
       "      <td>290</td>\n",
       "      <td>False</td>\n",
       "      <td>2</td>\n",
       "    </tr>\n",
       "    <tr>\n",
       "      <th>41</th>\n",
       "      <td>300</td>\n",
       "      <td>False</td>\n",
       "      <td>2</td>\n",
       "    </tr>\n",
       "    <tr>\n",
       "      <th>42</th>\n",
       "      <td>300</td>\n",
       "      <td>True</td>\n",
       "      <td>2</td>\n",
       "    </tr>\n",
       "    <tr>\n",
       "      <th>5</th>\n",
       "      <td>120</td>\n",
       "      <td>False</td>\n",
       "      <td>3</td>\n",
       "    </tr>\n",
       "    <tr>\n",
       "      <th>25</th>\n",
       "      <td>220</td>\n",
       "      <td>False</td>\n",
       "      <td>3</td>\n",
       "    </tr>\n",
       "    <tr>\n",
       "      <th>26</th>\n",
       "      <td>220</td>\n",
       "      <td>True</td>\n",
       "      <td>3</td>\n",
       "    </tr>\n",
       "    <tr>\n",
       "      <th>27</th>\n",
       "      <td>230</td>\n",
       "      <td>False</td>\n",
       "      <td>3</td>\n",
       "    </tr>\n",
       "    <tr>\n",
       "      <th>28</th>\n",
       "      <td>230</td>\n",
       "      <td>True</td>\n",
       "      <td>3</td>\n",
       "    </tr>\n",
       "    <tr>\n",
       "      <th>29</th>\n",
       "      <td>240</td>\n",
       "      <td>False</td>\n",
       "      <td>3</td>\n",
       "    </tr>\n",
       "    <tr>\n",
       "      <th>30</th>\n",
       "      <td>240</td>\n",
       "      <td>True</td>\n",
       "      <td>3</td>\n",
       "    </tr>\n",
       "    <tr>\n",
       "      <th>31</th>\n",
       "      <td>250</td>\n",
       "      <td>False</td>\n",
       "      <td>3</td>\n",
       "    </tr>\n",
       "    <tr>\n",
       "      <th>32</th>\n",
       "      <td>250</td>\n",
       "      <td>True</td>\n",
       "      <td>3</td>\n",
       "    </tr>\n",
       "    <tr>\n",
       "      <th>33</th>\n",
       "      <td>260</td>\n",
       "      <td>False</td>\n",
       "      <td>3</td>\n",
       "    </tr>\n",
       "    <tr>\n",
       "      <th>34</th>\n",
       "      <td>260</td>\n",
       "      <td>True</td>\n",
       "      <td>3</td>\n",
       "    </tr>\n",
       "    <tr>\n",
       "      <th>35</th>\n",
       "      <td>270</td>\n",
       "      <td>False</td>\n",
       "      <td>3</td>\n",
       "    </tr>\n",
       "    <tr>\n",
       "      <th>36</th>\n",
       "      <td>270</td>\n",
       "      <td>True</td>\n",
       "      <td>3</td>\n",
       "    </tr>\n",
       "    <tr>\n",
       "      <th>37</th>\n",
       "      <td>280</td>\n",
       "      <td>False</td>\n",
       "      <td>3</td>\n",
       "    </tr>\n",
       "    <tr>\n",
       "      <th>38</th>\n",
       "      <td>280</td>\n",
       "      <td>True</td>\n",
       "      <td>3</td>\n",
       "    </tr>\n",
       "    <tr>\n",
       "      <th>2</th>\n",
       "      <td>100</td>\n",
       "      <td>True</td>\n",
       "      <td>3</td>\n",
       "    </tr>\n",
       "    <tr>\n",
       "      <th>24</th>\n",
       "      <td>210</td>\n",
       "      <td>True</td>\n",
       "      <td>3</td>\n",
       "    </tr>\n",
       "    <tr>\n",
       "      <th>4</th>\n",
       "      <td>110</td>\n",
       "      <td>True</td>\n",
       "      <td>3</td>\n",
       "    </tr>\n",
       "    <tr>\n",
       "      <th>23</th>\n",
       "      <td>210</td>\n",
       "      <td>False</td>\n",
       "      <td>3</td>\n",
       "    </tr>\n",
       "    <tr>\n",
       "      <th>3</th>\n",
       "      <td>110</td>\n",
       "      <td>False</td>\n",
       "      <td>3</td>\n",
       "    </tr>\n",
       "    <tr>\n",
       "      <th>6</th>\n",
       "      <td>120</td>\n",
       "      <td>True</td>\n",
       "      <td>3</td>\n",
       "    </tr>\n",
       "    <tr>\n",
       "      <th>7</th>\n",
       "      <td>130</td>\n",
       "      <td>False</td>\n",
       "      <td>3</td>\n",
       "    </tr>\n",
       "    <tr>\n",
       "      <th>8</th>\n",
       "      <td>130</td>\n",
       "      <td>True</td>\n",
       "      <td>3</td>\n",
       "    </tr>\n",
       "    <tr>\n",
       "      <th>9</th>\n",
       "      <td>140</td>\n",
       "      <td>False</td>\n",
       "      <td>3</td>\n",
       "    </tr>\n",
       "    <tr>\n",
       "      <th>10</th>\n",
       "      <td>140</td>\n",
       "      <td>True</td>\n",
       "      <td>3</td>\n",
       "    </tr>\n",
       "    <tr>\n",
       "      <th>11</th>\n",
       "      <td>150</td>\n",
       "      <td>False</td>\n",
       "      <td>3</td>\n",
       "    </tr>\n",
       "    <tr>\n",
       "      <th>13</th>\n",
       "      <td>160</td>\n",
       "      <td>False</td>\n",
       "      <td>3</td>\n",
       "    </tr>\n",
       "    <tr>\n",
       "      <th>12</th>\n",
       "      <td>150</td>\n",
       "      <td>True</td>\n",
       "      <td>3</td>\n",
       "    </tr>\n",
       "    <tr>\n",
       "      <th>15</th>\n",
       "      <td>170</td>\n",
       "      <td>False</td>\n",
       "      <td>3</td>\n",
       "    </tr>\n",
       "    <tr>\n",
       "      <th>16</th>\n",
       "      <td>170</td>\n",
       "      <td>True</td>\n",
       "      <td>3</td>\n",
       "    </tr>\n",
       "    <tr>\n",
       "      <th>17</th>\n",
       "      <td>180</td>\n",
       "      <td>False</td>\n",
       "      <td>3</td>\n",
       "    </tr>\n",
       "    <tr>\n",
       "      <th>18</th>\n",
       "      <td>180</td>\n",
       "      <td>True</td>\n",
       "      <td>3</td>\n",
       "    </tr>\n",
       "    <tr>\n",
       "      <th>19</th>\n",
       "      <td>190</td>\n",
       "      <td>False</td>\n",
       "      <td>3</td>\n",
       "    </tr>\n",
       "    <tr>\n",
       "      <th>20</th>\n",
       "      <td>190</td>\n",
       "      <td>True</td>\n",
       "      <td>3</td>\n",
       "    </tr>\n",
       "    <tr>\n",
       "      <th>14</th>\n",
       "      <td>160</td>\n",
       "      <td>True</td>\n",
       "      <td>3</td>\n",
       "    </tr>\n",
       "    <tr>\n",
       "      <th>1</th>\n",
       "      <td>100</td>\n",
       "      <td>False</td>\n",
       "      <td>4</td>\n",
       "    </tr>\n",
       "    <tr>\n",
       "      <th>22</th>\n",
       "      <td>200</td>\n",
       "      <td>True</td>\n",
       "      <td>35</td>\n",
       "    </tr>\n",
       "    <tr>\n",
       "      <th>21</th>\n",
       "      <td>200</td>\n",
       "      <td>False</td>\n",
       "      <td>36</td>\n",
       "    </tr>\n",
       "  </tbody>\n",
       "</table>\n",
       "</div>"
      ],
      "text/plain": [
       "    bin  gen_augment  F1 Score\n",
       "0    50        False         2\n",
       "40  290         True         2\n",
       "39  290        False         2\n",
       "41  300        False         2\n",
       "42  300         True         2\n",
       "5   120        False         3\n",
       "25  220        False         3\n",
       "26  220         True         3\n",
       "27  230        False         3\n",
       "28  230         True         3\n",
       "29  240        False         3\n",
       "30  240         True         3\n",
       "31  250        False         3\n",
       "32  250         True         3\n",
       "33  260        False         3\n",
       "34  260         True         3\n",
       "35  270        False         3\n",
       "36  270         True         3\n",
       "37  280        False         3\n",
       "38  280         True         3\n",
       "2   100         True         3\n",
       "24  210         True         3\n",
       "4   110         True         3\n",
       "23  210        False         3\n",
       "3   110        False         3\n",
       "6   120         True         3\n",
       "7   130        False         3\n",
       "8   130         True         3\n",
       "9   140        False         3\n",
       "10  140         True         3\n",
       "11  150        False         3\n",
       "13  160        False         3\n",
       "12  150         True         3\n",
       "15  170        False         3\n",
       "16  170         True         3\n",
       "17  180        False         3\n",
       "18  180         True         3\n",
       "19  190        False         3\n",
       "20  190         True         3\n",
       "14  160         True         3\n",
       "1   100        False         4\n",
       "22  200         True        35\n",
       "21  200        False        36"
      ]
     },
     "execution_count": 17,
     "metadata": {},
     "output_type": "execute_result"
    }
   ],
   "source": [
    "pd.DataFrame(df3.groupby(['bin','gen_augment']).count()['F1 Score']).reset_index().sort_values(by='F1 Score')"
   ]
  },
  {
   "cell_type": "code",
   "execution_count": 18,
   "id": "61a398bd-14c4-4d32-9827-f3726a456ee3",
   "metadata": {},
   "outputs": [
    {
     "data": {
      "text/plain": [
       "<AxesSubplot:xlabel='n_augment', ylabel='Number of Datapoints'>"
      ]
     },
     "execution_count": 18,
     "metadata": {},
     "output_type": "execute_result"
    },
    {
     "data": {
      "image/png": "[encoded data removed]",
      "text/plain": [
       "<Figure size 432x288 with 1 Axes>"
      ]
     },
     "metadata": {
      "needs_background": "light"
     },
     "output_type": "display_data"
    }
   ],
   "source": [
    "# Number of datapoints for each n_generated\n",
    "df4 = df2#[df2['training_size']>40]\n",
    "df4 = df4[df4['gen_augment']==True]\n",
    "pd.DataFrame(df4.sort_values(by='n_augment')['n_augment'].value_counts()).reset_index().plot.scatter(x='index',y='n_augment', xlabel='n_augment', ylabel='Number of Datapoints')"
   ]
  },
  {
   "cell_type": "code",
   "execution_count": 19,
   "id": "e3a396f0-9cc9-4f66-bf43-7d96550bcedb",
   "metadata": {},
   "outputs": [
    {
     "data": {
      "text/plain": [
       "Text(0.5, 0, 'Number of Original Training Images')"
      ]
     },
     "execution_count": 19,
     "metadata": {},
     "output_type": "execute_result"
    },
    {
     "data": {
      "image/png": "[encoded data removed]",
      "text/plain": [
       "<Figure size 720x432 with 1 Axes>"
      ]
     },
     "metadata": {
      "needs_background": "light"
     },
     "output_type": "display_data"
    }
   ],
   "source": [
    "df_nogen = df2[df2.gen_augment==False]\n",
    "df_nogen = df_nogen[df_nogen.original_train > 49]\n",
    "fig, ax = plt.subplots(figsize=(10, 6))\n",
    "plt.scatter(\n",
    "    df_nogen.original_train, \n",
    "    df_nogen['F1 Score'], \n",
    "    marker='x')\n",
    "# plt.set_cmap('plasma_r')\n",
    "ax.set_title('F1 Score by Training Set Size')\n",
    "ax.set_ylabel('F1 Score')\n",
    "ax.set_xlabel('Number of Original Training Images')"
   ]
  },
  {
   "cell_type": "code",
   "execution_count": 20,
   "id": "21209a33-af91-4ffb-9d65-b48e3f75c26e",
   "metadata": {},
   "outputs": [
    {
     "data": {
      "text/plain": [
       "<AxesSubplot:xlabel='Training Set Size', ylabel='Number of Datapoints'>"
      ]
     },
     "execution_count": 20,
     "metadata": {},
     "output_type": "execute_result"
    },
    {
     "data": {
      "image/png": "[encoded data removed]",
      "text/plain": [
       "<Figure size 432x288 with 1 Axes>"
      ]
     },
     "metadata": {
      "needs_background": "light"
     },
     "output_type": "display_data"
    }
   ],
   "source": [
    "# Number of datapoints for each training size\n",
    "# df3 = df2#[df2['training_size']>40]\n",
    "pd.DataFrame(df_nogen.sort_values(by='bin')['bin'].value_counts()).reset_index().plot.scatter(x='index',y='bin', xlabel='Training Set Size', ylabel='Number of Datapoints')"
   ]
  },
  {
   "cell_type": "code",
   "execution_count": 21,
   "id": "6ea6b3f6-83a7-47ee-a54a-9eb6c251eedc",
   "metadata": {},
   "outputs": [
    {
     "ename": "KeyError",
     "evalue": "\"['n_generated'] not in index\"",
     "output_type": "error",
     "traceback": [
      "\u001b[0;31m---------------------------------------------------------------------------\u001b[0m",
      "\u001b[0;31mKeyError\u001b[0m                                  Traceback (most recent call last)",
      "\u001b[0;32m<ipython-input-21-2569c4695724>\u001b[0m in \u001b[0;36m<module>\u001b[0;34m\u001b[0m\n\u001b[0;32m----> 1\u001b[0;31m \u001b[0mdf\u001b[0m \u001b[0;34m=\u001b[0m \u001b[0mdf\u001b[0m\u001b[0;34m[\u001b[0m\u001b[0;34m~\u001b[0m\u001b[0mdf\u001b[0m\u001b[0;34m.\u001b[0m\u001b[0mgen_label\u001b[0m\u001b[0;34m.\u001b[0m\u001b[0misna\u001b[0m\u001b[0;34m(\u001b[0m\u001b[0;34m)\u001b[0m\u001b[0;34m]\u001b[0m\u001b[0;34m[\u001b[0m\u001b[0;34m[\u001b[0m\u001b[0;34m'gen_label'\u001b[0m\u001b[0;34m,\u001b[0m\u001b[0;34m'F1 Score'\u001b[0m\u001b[0;34m,\u001b[0m\u001b[0;34m'Accuracy'\u001b[0m\u001b[0;34m,\u001b[0m\u001b[0;34m'n_generated'\u001b[0m\u001b[0;34m]\u001b[0m\u001b[0;34m]\u001b[0m\u001b[0;34m\u001b[0m\u001b[0;34m\u001b[0m\u001b[0m\n\u001b[0m\u001b[1;32m      2\u001b[0m \u001b[0mdf\u001b[0m\u001b[0;34m[\u001b[0m\u001b[0;34m'original_train'\u001b[0m\u001b[0;34m]\u001b[0m \u001b[0;34m=\u001b[0m \u001b[0mpd\u001b[0m\u001b[0;34m.\u001b[0m\u001b[0mto_numeric\u001b[0m\u001b[0;34m(\u001b[0m\u001b[0mdf\u001b[0m\u001b[0;34m.\u001b[0m\u001b[0mgen_label\u001b[0m\u001b[0;34m.\u001b[0m\u001b[0mstr\u001b[0m\u001b[0;34m.\u001b[0m\u001b[0mextract\u001b[0m\u001b[0;34m(\u001b[0m\u001b[0;34m'(\\d+) train'\u001b[0m\u001b[0;34m)\u001b[0m\u001b[0;34m[\u001b[0m\u001b[0;36m0\u001b[0m\u001b[0;34m]\u001b[0m\u001b[0;34m,\u001b[0m \u001b[0merrors\u001b[0m\u001b[0;34m=\u001b[0m\u001b[0;34m'coerce'\u001b[0m\u001b[0;34m)\u001b[0m\u001b[0;34m\u001b[0m\u001b[0;34m\u001b[0m\u001b[0m\n\u001b[1;32m      3\u001b[0m \u001b[0mdf\u001b[0m \u001b[0;34m=\u001b[0m \u001b[0mdf\u001b[0m\u001b[0;34m.\u001b[0m\u001b[0msort_values\u001b[0m\u001b[0;34m(\u001b[0m\u001b[0mby\u001b[0m\u001b[0;34m=\u001b[0m\u001b[0;34m[\u001b[0m\u001b[0;34m'original_train'\u001b[0m\u001b[0;34m,\u001b[0m\u001b[0;34m'n_generated'\u001b[0m\u001b[0;34m]\u001b[0m\u001b[0;34m)\u001b[0m\u001b[0;34m\u001b[0m\u001b[0;34m\u001b[0m\u001b[0m\n\u001b[1;32m      4\u001b[0m \u001b[0mdf\u001b[0m\u001b[0;34m[\u001b[0m\u001b[0;34m'Uses Gen'\u001b[0m\u001b[0;34m]\u001b[0m \u001b[0;34m=\u001b[0m \u001b[0mdf\u001b[0m\u001b[0;34m.\u001b[0m\u001b[0mgen_label\u001b[0m\u001b[0;34m.\u001b[0m\u001b[0mstr\u001b[0m\u001b[0;34m.\u001b[0m\u001b[0mcontains\u001b[0m\u001b[0;34m(\u001b[0m\u001b[0;34m'dcgan'\u001b[0m\u001b[0;34m)\u001b[0m\u001b[0;34m\u001b[0m\u001b[0;34m\u001b[0m\u001b[0m\n\u001b[1;32m      5\u001b[0m \u001b[0mdf\u001b[0m\u001b[0;34m.\u001b[0m\u001b[0mtail\u001b[0m\u001b[0;34m(\u001b[0m\u001b[0;34m)\u001b[0m\u001b[0;34m\u001b[0m\u001b[0;34m\u001b[0m\u001b[0m\n",
      "\u001b[0;32m/opt/anaconda3/lib/python3.8/site-packages/pandas/core/frame.py\u001b[0m in \u001b[0;36m__getitem__\u001b[0;34m(self, key)\u001b[0m\n\u001b[1;32m   3028\u001b[0m             \u001b[0;32mif\u001b[0m \u001b[0mis_iterator\u001b[0m\u001b[0;34m(\u001b[0m\u001b[0mkey\u001b[0m\u001b[0;34m)\u001b[0m\u001b[0;34m:\u001b[0m\u001b[0;34m\u001b[0m\u001b[0;34m\u001b[0m\u001b[0m\n\u001b[1;32m   3029\u001b[0m                 \u001b[0mkey\u001b[0m \u001b[0;34m=\u001b[0m \u001b[0mlist\u001b[0m\u001b[0;34m(\u001b[0m\u001b[0mkey\u001b[0m\u001b[0;34m)\u001b[0m\u001b[0;34m\u001b[0m\u001b[0;34m\u001b[0m\u001b[0m\n\u001b[0;32m-> 3030\u001b[0;31m             \u001b[0mindexer\u001b[0m \u001b[0;34m=\u001b[0m \u001b[0mself\u001b[0m\u001b[0;34m.\u001b[0m\u001b[0mloc\u001b[0m\u001b[0;34m.\u001b[0m\u001b[0m_get_listlike_indexer\u001b[0m\u001b[0;34m(\u001b[0m\u001b[0mkey\u001b[0m\u001b[0;34m,\u001b[0m \u001b[0maxis\u001b[0m\u001b[0;34m=\u001b[0m\u001b[0;36m1\u001b[0m\u001b[0;34m,\u001b[0m \u001b[0mraise_missing\u001b[0m\u001b[0;34m=\u001b[0m\u001b[0;32mTrue\u001b[0m\u001b[0;34m)\u001b[0m\u001b[0;34m[\u001b[0m\u001b[0;36m1\u001b[0m\u001b[0;34m]\u001b[0m\u001b[0;34m\u001b[0m\u001b[0;34m\u001b[0m\u001b[0m\n\u001b[0m\u001b[1;32m   3031\u001b[0m \u001b[0;34m\u001b[0m\u001b[0m\n\u001b[1;32m   3032\u001b[0m         \u001b[0;31m# take() does not accept boolean indexers\u001b[0m\u001b[0;34m\u001b[0m\u001b[0;34m\u001b[0m\u001b[0;34m\u001b[0m\u001b[0m\n",
      "\u001b[0;32m/opt/anaconda3/lib/python3.8/site-packages/pandas/core/indexing.py\u001b[0m in \u001b[0;36m_get_listlike_indexer\u001b[0;34m(self, key, axis, raise_missing)\u001b[0m\n\u001b[1;32m   1264\u001b[0m             \u001b[0mkeyarr\u001b[0m\u001b[0;34m,\u001b[0m \u001b[0mindexer\u001b[0m\u001b[0;34m,\u001b[0m \u001b[0mnew_indexer\u001b[0m \u001b[0;34m=\u001b[0m \u001b[0max\u001b[0m\u001b[0;34m.\u001b[0m\u001b[0m_reindex_non_unique\u001b[0m\u001b[0;34m(\u001b[0m\u001b[0mkeyarr\u001b[0m\u001b[0;34m)\u001b[0m\u001b[0;34m\u001b[0m\u001b[0;34m\u001b[0m\u001b[0m\n\u001b[1;32m   1265\u001b[0m \u001b[0;34m\u001b[0m\u001b[0m\n\u001b[0;32m-> 1266\u001b[0;31m         \u001b[0mself\u001b[0m\u001b[0;34m.\u001b[0m\u001b[0m_validate_read_indexer\u001b[0m\u001b[0;34m(\u001b[0m\u001b[0mkeyarr\u001b[0m\u001b[0;34m,\u001b[0m \u001b[0mindexer\u001b[0m\u001b[0;34m,\u001b[0m \u001b[0maxis\u001b[0m\u001b[0;34m,\u001b[0m \u001b[0mraise_missing\u001b[0m\u001b[0;34m=\u001b[0m\u001b[0mraise_missing\u001b[0m\u001b[0;34m)\u001b[0m\u001b[0;34m\u001b[0m\u001b[0;34m\u001b[0m\u001b[0m\n\u001b[0m\u001b[1;32m   1267\u001b[0m         \u001b[0;32mreturn\u001b[0m \u001b[0mkeyarr\u001b[0m\u001b[0;34m,\u001b[0m \u001b[0mindexer\u001b[0m\u001b[0;34m\u001b[0m\u001b[0;34m\u001b[0m\u001b[0m\n\u001b[1;32m   1268\u001b[0m \u001b[0;34m\u001b[0m\u001b[0m\n",
      "\u001b[0;32m/opt/anaconda3/lib/python3.8/site-packages/pandas/core/indexing.py\u001b[0m in \u001b[0;36m_validate_read_indexer\u001b[0;34m(self, key, indexer, axis, raise_missing)\u001b[0m\n\u001b[1;32m   1314\u001b[0m             \u001b[0;32mif\u001b[0m \u001b[0mraise_missing\u001b[0m\u001b[0;34m:\u001b[0m\u001b[0;34m\u001b[0m\u001b[0;34m\u001b[0m\u001b[0m\n\u001b[1;32m   1315\u001b[0m                 \u001b[0mnot_found\u001b[0m \u001b[0;34m=\u001b[0m \u001b[0mlist\u001b[0m\u001b[0;34m(\u001b[0m\u001b[0mset\u001b[0m\u001b[0;34m(\u001b[0m\u001b[0mkey\u001b[0m\u001b[0;34m)\u001b[0m \u001b[0;34m-\u001b[0m \u001b[0mset\u001b[0m\u001b[0;34m(\u001b[0m\u001b[0max\u001b[0m\u001b[0;34m)\u001b[0m\u001b[0;34m)\u001b[0m\u001b[0;34m\u001b[0m\u001b[0;34m\u001b[0m\u001b[0m\n\u001b[0;32m-> 1316\u001b[0;31m                 \u001b[0;32mraise\u001b[0m \u001b[0mKeyError\u001b[0m\u001b[0;34m(\u001b[0m\u001b[0;34mf\"{not_found} not in index\"\u001b[0m\u001b[0;34m)\u001b[0m\u001b[0;34m\u001b[0m\u001b[0;34m\u001b[0m\u001b[0m\n\u001b[0m\u001b[1;32m   1317\u001b[0m \u001b[0;34m\u001b[0m\u001b[0m\n\u001b[1;32m   1318\u001b[0m             \u001b[0mnot_found\u001b[0m \u001b[0;34m=\u001b[0m \u001b[0mkey\u001b[0m\u001b[0;34m[\u001b[0m\u001b[0mmissing_mask\u001b[0m\u001b[0;34m]\u001b[0m\u001b[0;34m\u001b[0m\u001b[0;34m\u001b[0m\u001b[0m\n",
      "\u001b[0;31mKeyError\u001b[0m: \"['n_generated'] not in index\""
     ]
    }
   ],
   "source": [
    "df = df[~df.gen_label.isna()][['gen_label','F1 Score','Accuracy','n_generated']]\n",
    "df['original_train'] = pd.to_numeric(df.gen_label.str.extract('(\\d+) train')[0], errors='coerce')\n",
    "df = df.sort_values(by=['original_train','n_generated'])\n",
    "df['Uses Gen'] = df.gen_label.str.contains('dcgan')\n",
    "df.tail()"
   ]
  },
  {
   "cell_type": "code",
   "execution_count": null,
   "id": "011d1235-d892-4837-9e96-f126767d7beb",
   "metadata": {},
   "outputs": [],
   "source": [
    "df_usesgen = df[df['Uses Gen']==True].sort_values(by='n_generated')\n",
    "df_usesgen = df_usesgen[df_usesgen['n_generated'] < 50]\n",
    "# ax = df[df['original_train']==40].plot.scatter(x='n_generated', y='F1 Score', style='.', figsize=(12, 6))\n",
    "ax = df_usesgen[df_usesgen['original_train']==40].boxplot(column='F1 Score', by=['n_generated'], grid=False, figsize=(10,6))\n",
    "# plt.colorbar(ax.collections[0], label='Original Train')\n",
    "plt.title(\"F1 Score by Number of Generated Images with 40 Original Training Images\")\n",
    "plt.xlabel(\"Number of Images Generated\")\n",
    "plt.ylabel(\"F1 Score\")\n",
    "plt.show()"
   ]
  },
  {
   "cell_type": "code",
   "execution_count": null,
   "id": "323a9d0b-a543-48d2-aa5f-6cc2440bb744",
   "metadata": {
    "tags": []
   },
   "outputs": [],
   "source": [
    "pd.DataFrame(df_usesgen[df_usesgen['original_train']==40].groupby(['original_train','n_generated'])['F1 Score'].count())"
   ]
  },
  {
   "cell_type": "code",
   "execution_count": null,
   "id": "6e6f766a-c5bb-4bfe-9e8b-6d271f17cd6a",
   "metadata": {},
   "outputs": [],
   "source": []
  },
  {
   "cell_type": "code",
   "execution_count": null,
   "id": "3b7c70e3-45a1-448e-a11a-5218ecebcae7",
   "metadata": {},
   "outputs": [],
   "source": [
    "df = df.sort_values(by='original_train')\n",
    "\n",
    "# Mapping colors based on 'Uses Gen' column\n",
    "mp = df['Uses Gen'].map({True: 'b', False: 'r'})\n",
    "\n",
    "# Creating the scatter plot\n",
    "ax = df.plot.scatter(x='n_generated', y='F1 Score', style='.', c=mp, figsize=(12, 6))\n",
    "\n",
    "# Creating a custom legend\n",
    "legend_labels = {'b': 'Uses Gen True', 'r': 'Uses Gen False'}\n",
    "handles = [plt.Line2D([0], [0], marker='.', color=color, label=label, linestyle='None') for color, label in legend_labels.items()]\n",
    "\n",
    "# Adding the legend to the plot\n",
    "ax.legend(handles=handles, title='Uses Gen', loc='upper left')\n",
    "\n",
    "# Show the plot\n",
    "plt.show()"
   ]
  }
 ],
 "metadata": {
  "kernelspec": {
   "display_name": "Python 3",
   "language": "python",
   "name": "python3"
  },
  "language_info": {
   "codemirror_mode": {
    "name": "ipython",
    "version": 3
   },
   "file_extension": ".py",
   "mimetype": "text/x-python",
   "name": "python",
   "nbconvert_exporter": "python",
   "pygments_lexer": "ipython3",
   "version": "3.8.8"
  },
  "vscode": {
   "interpreter": {
    "hash": "9c8ffe22700095bdb709c65a145c9c84bf3ebe2b2b59b206737f9db5865a0196"
   }
  }
 },
 "nbformat": 4,
 "nbformat_minor": 5
}
